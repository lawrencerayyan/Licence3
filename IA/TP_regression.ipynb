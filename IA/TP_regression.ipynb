{
 "cells": [
  {
   "cell_type": "code",
   "execution_count": 2,
   "id": "60bcf941",
   "metadata": {},
   "outputs": [],
   "source": [
    "# import des bibliothèques Python utiles:\n",
    "import numpy as np\n",
    "import sklearn.linear_model as lm \n",
    "from sklearn import datasets,  metrics\n",
    "import matplotlib.pyplot as plt\n",
    "\n",
    "# \"magic function\" Jupyter pour l'affichage des graphiques dans le carnet:\n",
    "%matplotlib inline\n",
    "\n"
   ]
  },
  {
   "cell_type": "markdown",
   "id": "6382a3d3",
   "metadata": {},
   "source": [
    "* chargement des données *\n",
    "\n",
    "Nous utilisérons  le dataset  diabetes du logiciel scikitlearn\n",
    "\n",
    "https://scikit-learn.org/stable/datasets/toy_dataset.html#diabetes-dataset\n",
    "\n",
    " Récupérez  ce jeu de données.\n",
    " \n",
    " Comprénez ce jeu de données. \n",
    " \n",
    " Combien d'attributs  existe-il (\"features\")?\n",
    " \n",
    " Que représentent des attributs?\n",
    " \n",
    " Que représente l'étiquette (\"target\")?  S'agit-il des réels ou non?\n",
    " \n",
    " Combien de données existe-il?\n",
    " \n",
    " Mettez les données sur la variable X et les étiquettes sur la variable y. Attention les données qui sont dans .data ne sont pas toutes des attributs (\"features\")\n",
    " \n",
    " Affichez les 5 prémières données?\n",
    "\n",
    " Affichez les 5 premières étiquettes?\n"
   ]
  },
  {
   "cell_type": "code",
   "execution_count": 4,
   "id": "4744edcb",
   "metadata": {},
   "outputs": [
    {
     "name": "stdout",
     "output_type": "stream",
     "text": [
      "Les attributs (features) :['age', 'sex', 'bmi', 'bp', 's1', 's2', 's3', 's4', 's5', 's6']\n",
      "Les 5 premières données (attributs/features) :\n",
      "[[ 0.03807591  0.05068012  0.06169621  0.02187239 -0.0442235  -0.03482076\n",
      "  -0.04340085 -0.00259226  0.01990749 -0.01764613]\n",
      " [-0.00188202 -0.04464164 -0.05147406 -0.02632753 -0.00844872 -0.01916334\n",
      "   0.07441156 -0.03949338 -0.06833155 -0.09220405]\n",
      " [ 0.08529891  0.05068012  0.04445121 -0.00567042 -0.04559945 -0.03419447\n",
      "  -0.03235593 -0.00259226  0.00286131 -0.02593034]\n",
      " [-0.08906294 -0.04464164 -0.01159501 -0.03665608  0.01219057  0.02499059\n",
      "  -0.03603757  0.03430886  0.02268774 -0.00936191]\n",
      " [ 0.00538306 -0.04464164 -0.03638469  0.02187239  0.00393485  0.01559614\n",
      "   0.00814208 -0.00259226 -0.03198764 -0.04664087]]\n",
      "\n",
      "Les 5 premières étiquettes (valeurs réelles) :\n",
      "[151.  75. 141. 206. 135.]\n"
     ]
    }
   ],
   "source": [
    "from sklearn.datasets import load_diabetes\n",
    "\n",
    "# Charger le jeu de données diabetes\n",
    "diabetes = load_diabetes()\n",
    "\n",
    "# Nombre d'attributs (\"features\")\n",
    "num_attributes = diabetes.data.shape[1]\n",
    "\n",
    "# Attributs représentent les caractéristiques des patients liées au diabète\n",
    "attributes_description = diabetes.feature_names\n",
    "print(\"Les attributs (features) :\"+str(attributes_description))\n",
    "\n",
    "# L'étiquette (\"target\") représente une mesure quantitative de la progression de la maladie un an après le début de l'étude\n",
    "# Il s'agit de valeurs réelles.\n",
    "target_description = \"HbA1c level\"\n",
    "\n",
    "# Nombre de données\n",
    "num_samples = diabetes.data.shape[0]\n",
    "\n",
    "# Mettre les données sur la variable X et les étiquettes sur la variable y\n",
    "X = diabetes.data\n",
    "y = diabetes.target\n",
    "\n",
    "# Afficher les 5 premières données\n",
    "print(\"Les 5 premières données (attributs/features) :\")\n",
    "print(X[:5])\n",
    "\n",
    "# Afficher les 5 premières étiquettes\n",
    "print(\"\\nLes 5 premières étiquettes (valeurs réelles) :\")\n",
    "print(y[:5])"
   ]
  },
  {
   "cell_type": "markdown",
   "id": "a7c0b86e",
   "metadata": {},
   "source": [
    "Nous considérons seulement l'attribut l'IMC\n",
    "\n",
    "On met de côté  les 50 dernières données  pour tester la qualité d'apprentissage. L'apprentissage sera fait sur le reste de données\n",
    " \n",
    "Mettez les données d'apprentissage sur la variable X_train et les données de test sur X_test\n",
    "\n",
    "Mettez les étiquettes de test sur y_test et celles d'apprentissage sur y_train\n",
    "\n",
    "Affichez les 5 premiers  éléments de X_train et y_train"
   ]
  },
  {
   "cell_type": "code",
   "execution_count": null,
   "id": "46eb7657",
   "metadata": {},
   "outputs": [],
   "source": [
    "X_train = X[:-50,2]\n",
    "X_test = X[-50:,2]\n",
    "X_train = X_train.reshape(len(X_train),1)\n",
    "X_test = X_test.reshape(len(X_test),1)\n",
    "y_train = y[:-50]\n",
    "y_test = y[-50:]"
   ]
  },
  {
   "cell_type": "code",
   "execution_count": 6,
   "id": "145887e8",
   "metadata": {},
   "outputs": [
    {
     "name": "stdout",
     "output_type": "stream",
     "text": [
      "First 5 elements of X_train:\n",
      "[[ 0.06169621]\n",
      " [-0.05147406]\n",
      " [ 0.04445121]\n",
      " [-0.01159501]\n",
      " [-0.03638469]]\n",
      "\n",
      "First 5 elements of y_train:\n",
      "[151.  75. 141. 206. 135.]\n"
     ]
    }
   ],
   "source": [
    "X_train = X[:-50,2]\n",
    "X_test = X[-50:,2]\n",
    "X_train = X_train.reshape(len(X_train),1)\n",
    "X_test = X_test.reshape(len(X_test),1)\n",
    "y_train = y[:-50]\n",
    "y_test = y[-50:]\n",
    "\n",
    "print(\"First 5 elements of X_train:\")\n",
    "print(X_train[:5])\n",
    "print(\"\\nFirst 5 elements of y_train:\")\n",
    "print(y_train[:5])\n"
   ]
  },
  {
   "cell_type": "markdown",
   "id": "49f1dd46",
   "metadata": {},
   "source": [
    "Proposez un modèle de régression linéaire pour prédire l'étiquette (y) en fonction de la valeur d'IMC (x):\n",
    "\n",
    "y=ax+b\n",
    "\n",
    "Affichez  les valeurs  de  a et b\n",
    "\n"
   ]
  },
  {
   "cell_type": "code",
   "execution_count": 7,
   "id": "0edd7dcc",
   "metadata": {},
   "outputs": [
    {
     "name": "stdout",
     "output_type": "stream",
     "text": [
      "a = 945.4992184034703\n",
      "b = 152.3348981915315\n"
     ]
    }
   ],
   "source": [
    "from sklearn.linear_model import LinearRegression\n",
    "\n",
    "model = LinearRegression()\n",
    "\n",
    "model.fit(X_train, y_train)\n",
    "\n",
    "a = model.coef_[0]\n",
    "b = model.intercept_\n",
    "\n",
    "\n",
    "print(\"a =\", a)\n",
    "print(\"b =\", b)\n"
   ]
  },
  {
   "cell_type": "markdown",
   "id": "96314904",
   "metadata": {},
   "source": [
    "Mettez les prédictions pour les données  X_test sur le vecteur y_pred_test\n",
    "\n",
    "Dessinez la figure  où l'axe x  est les données X_test, l'axe y est les étiquettes. Sur cette figure desssinez  2 courbes une pour y_test et une pour y_pred_test\n",
    "\n",
    "A la vue des graphiques, pensez-vous que le modèle linéaire est bien adapté?\n",
    "\n"
   ]
  },
  {
   "cell_type": "code",
   "execution_count": 10,
   "id": "c298c476",
   "metadata": {},
   "outputs": [
    {
     "data": {
      "image/png": "[encoded data removed]",
      "text/plain": [
       "<Figure size 1000x600 with 1 Axes>"
      ]
     },
     "metadata": {},
     "output_type": "display_data"
    }
   ],
   "source": [
    "y_pred_test = model.predict(X_test)\n",
    "# représentation graphique:\n",
    "plt.figure(figsize=(10,6))\n",
    "plt.plot(X_test, y_test, '.g')\n",
    "plt.plot(X_test, y_pred_test, '*y')\n",
    "plt.xlabel(\"x\")\n",
    "plt.ylabel(\"y\")\n",
    "plt.title('diabete avec données IMC')\n",
    "plt.legend([\"Donnees_test\",\"test_prediction\"]);\n",
    "plt.show()\n",
    "\n"
   ]
  },
  {
   "cell_type": "markdown",
   "id": "0c64752d",
   "metadata": {},
   "source": [
    "Calculez l'erreur MSE, r2score sur les données  de test. \n"
   ]
  },
  {
   "cell_type": "code",
   "execution_count": 11,
   "id": "3ae032f4",
   "metadata": {},
   "outputs": [
    {
     "name": "stdout",
     "output_type": "stream",
     "text": [
      "Mean Squared Error: 3471.9231960569664\n",
      "R2 Score: 0.4127592650680365\n"
     ]
    }
   ],
   "source": [
    "from sklearn.metrics import mean_squared_error, r2_score\n",
    "\n",
    "mse = mean_squared_error(y_test, y_pred_test)\n",
    "\n",
    "r2 = r2_score(y_test, y_pred_test)\n",
    "\n",
    "print(\"Mean Squared Error:\", mse)\n",
    "print(\"R2 Score:\", r2)\n"
   ]
  },
  {
   "cell_type": "markdown",
   "id": "20048eb6",
   "metadata": {},
   "source": [
    "Faites la regression  par la méthode de descente de gradient stochastique \n",
    "en prenant max_iter=10000, tol=1e-3\n",
    "\n",
    "#from sklearn.linear_model import SGDRegressor\n",
    "\n",
    "#sgd = SGDRegressor(max_iter=10000, tol=1e-3)\n",
    "\n",
    "\n",
    "Calculez l'erreur MSE, r2score sur les données  de test. \n",
    "\n",
    "Dessinez la figure comme vous avez fait pour la méthode précédente"
   ]
  },
  {
   "cell_type": "code",
   "execution_count": 12,
   "id": "de914bbb",
   "metadata": {},
   "outputs": [
    {
     "data": {
      "image/png": "[encoded data removed]",
      "text/plain": [
       "<Figure size 1000x600 with 1 Axes>"
      ]
     },
     "metadata": {},
     "output_type": "display_data"
    },
    {
     "name": "stdout",
     "output_type": "stream",
     "text": [
      "Mean Squared Error: 3579.701824689627\n",
      "R2 Score: 0.3945295988242432\n"
     ]
    }
   ],
   "source": [
    "from sklearn.linear_model import SGDRegressor\n",
    "\n",
    "\n",
    "sgd = SGDRegressor(max_iter=10000, tol=1e-3)\n",
    "\n",
    "\n",
    "sgd.fit(X_train, y_train)\n",
    "\n",
    "\n",
    "y_pred_test = sgd.predict(X_test)\n",
    "\n",
    "mse = mean_squared_error(y_test, y_pred_test)\n",
    "\n",
    "r2 = r2_score(y_test, y_pred_test)\n",
    "\n",
    "plt.figure(figsize=(10, 6))\n",
    "plt.plot(X_test, y_test, '.g')\n",
    "plt.plot(X_test, y_pred_test, '*y')\n",
    "plt.xlabel(\"x\")\n",
    "plt.ylabel(\"y\")\n",
    "plt.title('Regression using Stochastic Gradient Descent')\n",
    "plt.legend([\"Test Data\", \"Predicted Data\"])\n",
    "plt.show()\n",
    "\n",
    "print(\"Mean Squared Error:\", mse)\n",
    "print(\"R2 Score:\", r2)\n"
   ]
  },
  {
   "cell_type": "markdown",
   "id": "8c80c2d2",
   "metadata": {},
   "source": [
    "Vous utilisez la méthode de le plus proches voisins avec  k=1, k=2, k=3 pour faire la régression et comparez les MSE sur les données test. Quelle méthode donne le meilleur résultat pour cet ensemble de données d'apprentissage\n",
    "\n",
    "#from sklearn.neighbors import KNeighborsRegressor\n",
    "\n",
    "#reg1 = KNeighborsRegressor(n_neighbors=1)\n"
   ]
  },
  {
   "cell_type": "code",
   "execution_count": 13,
   "id": "0f5d20b5",
   "metadata": {},
   "outputs": [
    {
     "name": "stdout",
     "output_type": "stream",
     "text": [
      "MSE for k=1: 7448.52\n",
      "MSE for k=2: 3926.485\n",
      "MSE for k=3: 3687.24\n"
     ]
    }
   ],
   "source": [
    "from sklearn.neighbors import KNeighborsRegressor\n",
    "from sklearn.metrics import mean_squared_error\n",
    "\n",
    "reg1 = KNeighborsRegressor(n_neighbors=1)\n",
    "reg2 = KNeighborsRegressor(n_neighbors=2)\n",
    "reg3 = KNeighborsRegressor(n_neighbors=3)\n",
    "\n",
    "reg1.fit(X_train, y_train)\n",
    "reg2.fit(X_train, y_train)\n",
    "reg3.fit(X_train, y_train)\n",
    "\n",
    "y_pred_test_1 = reg1.predict(X_test)\n",
    "y_pred_test_2 = reg2.predict(X_test)\n",
    "y_pred_test_3 = reg3.predict(X_test)\n",
    "\n",
    "mse_1 = mean_squared_error(y_test, y_pred_test_1)\n",
    "mse_2 = mean_squared_error(y_test, y_pred_test_2)\n",
    "mse_3 = mean_squared_error(y_test, y_pred_test_3)\n",
    "\n",
    "print(\"MSE for k=1:\", mse_1)\n",
    "print(\"MSE for k=2:\", mse_2)\n",
    "print(\"MSE for k=3:\", mse_3)\n",
    "\n"
   ]
  },
  {
   "cell_type": "markdown",
   "id": "3e1da993",
   "metadata": {},
   "source": [
    " En utilisant \n",
    " from sklearn.preprocessing import PolynomialFeatures\n",
    " vous faites la régression en prénant un polynôme de degré 7 puis de degré 10.\n",
    " \n",
    " Avez-vous trouvé de meilleurs résultats?\n",
    " \n",
    "#from sklearn.preprocessing import PolynomialFeatures\n",
    "\n",
    "#trans = PolynomialFeatures(degree=7)\n",
    "\n",
    "#data_train = trans.fit_transform(X_train)"
   ]
  },
  {
   "cell_type": "code",
   "execution_count": null,
   "id": "36b2a1fc",
   "metadata": {},
   "outputs": [],
   "source": []
  },
  {
   "cell_type": "markdown",
   "id": "99991ddb",
   "metadata": {},
   "source": [
    "Vous faites l'apprentissage en prénant tous les attributs. Vous devez donc changér X_train, X_test\n",
    "\n",
    "Vous faites les regressions avec\n",
    "\n",
    "-regression linéaire\n",
    "\n",
    "-descente de gradient stochastique\n",
    "\n",
    "-le plus proches voisins k=1, k=2, k=3, k=4\n",
    "\n",
    "Calculez les r2scores MSEs sur les données de test pour chacune des méthodes"
   ]
  },
  {
   "cell_type": "code",
   "execution_count": null,
   "id": "a9aaf3f4",
   "metadata": {},
   "outputs": [],
   "source": []
  },
  {
   "cell_type": "code",
   "execution_count": null,
   "id": "64e7fb11",
   "metadata": {},
   "outputs": [],
   "source": []
  }
 ],
 "metadata": {
  "kernelspec": {
   "display_name": "Python 3 (ipykernel)",
   "language": "python",
   "name": "python3"
  },
  "language_info": {
   "codemirror_mode": {
    "name": "ipython",
    "version": 3
   },
   "file_extension": ".py",
   "mimetype": "text/x-python",
   "name": "python",
   "nbconvert_exporter": "python",
   "pygments_lexer": "ipython3",
   "version": "3.12.2"
  }
 },
 "nbformat": 4,
 "nbformat_minor": 5
}
