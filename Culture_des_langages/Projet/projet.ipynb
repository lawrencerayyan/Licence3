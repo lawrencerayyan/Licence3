{
 "cells": [
  {
   "cell_type": "markdown",
   "metadata": {},
   "source": [
    "tous les imports"
   ]
  },
  {
   "cell_type": "code",
   "execution_count": 5,
   "metadata": {},
   "outputs": [],
   "source": [
    "import csv\n",
    "import requests\n",
    "import pandas as pd\n",
    "from bs4 import BeautifulSoup\n",
    "from sklearn.model_selection import train_test_split    \n",
    "from sklearn.svm import SVC\n",
    "from sklearn.metrics import accuracy_score, confusion_matrix\n",
    "from sklearn.preprocessing import StandardScaler\n",
    "from sklearn.tree import DecisionTreeClassifier\n",
    "from sklearn.tree import export_graphviz\n",
    "import graphviz"
   ]
  },
  {
   "cell_type": "markdown",
   "metadata": {},
   "source": [
    "Question 1 : "
   ]
  },
  {
   "cell_type": "code",
   "execution_count": 6,
   "metadata": {},
   "outputs": [],
   "source": [
    "\n",
    "def comestible(url):\n",
    "    response = requests.get(url)\n",
    "    if response.status_code == 200:\n",
    "        soup = BeautifulSoup(response.content, 'html.parser')\n",
    "        category = soup.find('div', class_='cat_link').text.strip()\n",
    "        if category == 'Poisonous Mushrooms':\n",
    "            return 'P'\n",
    "        elif category == 'Edible Mushrooms':\n",
    "            return 'E'\n",
    "        elif category == 'Inedible Mushrooms':\n",
    "            return 'I'\n",
    "        else:\n",
    "            return'structure de page inconnue'\n",
    "    return 'requete non reussie'\n"
   ]
  },
  {
   "cell_type": "markdown",
   "metadata": {},
   "source": [
    "Question 2 : "
   ]
  },
  {
   "cell_type": "code",
   "execution_count": 7,
   "metadata": {},
   "outputs": [],
   "source": [
    "\n",
    "def color(url):\n",
    "    try:\n",
    "        response = requests.get(url)\n",
    "        if response.status_code == 200:\n",
    "            soup = BeautifulSoup(response.content, 'html.parser')\n",
    "            profile_div = soup.find('div', class_='mprofile')\n",
    "            if profile_div:\n",
    "                color_paragraph = profile_div.find(lambda tag: tag.name == 'p' and 'Color:' in tag.text)\n",
    "                if color_paragraph:\n",
    "                    color_links = color_paragraph.find_all('a')\n",
    "                    if color_links:  \n",
    "                        colors = [link.get_text(strip=True) for link in color_links]\n",
    "                        return '-'.join(colors)\n",
    "    except Exception as e:\n",
    "        return \"\"\n"
   ]
  },
  {
   "cell_type": "markdown",
   "metadata": {},
   "source": [
    "Question 3 : "
   ]
  },
  {
   "cell_type": "code",
   "execution_count": 8,
   "metadata": {},
   "outputs": [],
   "source": [
    "\n",
    "def shape(url):\n",
    "    response = requests.get(url)\n",
    "    if response.status_code == 200:\n",
    "        soup = BeautifulSoup(response.content, 'html.parser')\n",
    "        mprofile_div = soup.find('div', class_='mprofile')\n",
    "        if mprofile_div:\n",
    "            shape_tag = mprofile_div.find('strong', string='Shape:')\n",
    "            if shape_tag:\n",
    "                shape = shape_tag.find_next('a').text.strip().replace(' ', '')\n",
    "                return shape\n",
    "    return ''\n",
    "\n",
    "\n",
    "def surface(url):\n",
    "    response = requests.get(url)\n",
    "    if response.status_code == 200:\n",
    "        soup = BeautifulSoup(response.content, 'html.parser')\n",
    "        mprofile_div = soup.find('div', class_='mprofile')\n",
    "        if mprofile_div:\n",
    "            surface_tag = mprofile_div.find('strong', string='Surface:')\n",
    "            if surface_tag:\n",
    "                surface = surface_tag.find_next('a').text.strip()\n",
    "                return surface\n",
    "    return ''"
   ]
  },
  {
   "cell_type": "markdown",
   "metadata": {},
   "source": [
    "Question 4 : "
   ]
  },
  {
   "cell_type": "code",
   "execution_count": 9,
   "metadata": {},
   "outputs": [],
   "source": [
    "\n",
    "def csvv(url):\n",
    "    type = comestible(url)\n",
    "    color_info = color(url)\n",
    "    shape_info = shape(url)\n",
    "    surface_info = surface(url)\n",
    "    # Formater la chaîne CSV\n",
    "    csv_info = f\"{type},{color_info},{shape_info},{surface_info}\"\n",
    "    return csv_info"
   ]
  },
  {
   "cell_type": "markdown",
   "metadata": {},
   "source": [
    "Main pour les 4 premiers questions :"
   ]
  },
  {
   "cell_type": "code",
   "execution_count": 10,
   "metadata": {},
   "outputs": [
    {
     "name": "stdout",
     "output_type": "stream",
     "text": [
      "Poisonous: P\n",
      "Edible: E\n",
      "Inedible: I\n",
      "Color: Pale\n",
      "Color: White-Yellow\n",
      "Color: Orange-Yellow\n",
      "Shape: Polypore\n",
      "Shape: Convex\n",
      "Shape: CupFungi\n",
      "Surface: Smooth\n",
      "Surface: Smooth\n",
      "Surface: Smooth\n",
      "csv: P,Pale,Polypore,Smooth\n",
      "csv: E,White-Yellow,Convex,Smooth\n",
      "csv: I,Orange-Yellow,CupFungi,Smooth\n"
     ]
    }
   ],
   "source": [
    "\n",
    "url_poisonous = \"https://ultimate-mushroom.com/poisonous/103-abortiporus-biennis.html\"\n",
    "url_edible = \"https://ultimate-mushroom.com/edible/1010-agaricus-albolutescens.html\"\n",
    "url_inedible = \"https://ultimate-mushroom.com/inedible/452-byssonectria-terrestris.html\"\n",
    "\n",
    "\n",
    "result_poisonous = comestible(url_poisonous)\n",
    "result_edible = comestible(url_edible)\n",
    "result_inedible = comestible(url_inedible)\n",
    "\n",
    "print(\"Poisonous:\", result_poisonous)\n",
    "print(\"Edible:\", result_edible)\n",
    "print(\"Inedible:\", result_inedible)\n",
    "\n",
    "result_color_url1 = color(url_poisonous)\n",
    "result_color_url2=  color(url_edible)  \n",
    "result_color_url3 = color(url_inedible)\n",
    "print(\"Color:\", result_color_url1)\n",
    "print(\"Color:\", result_color_url2)\n",
    "print(\"Color:\", result_color_url3)\n",
    "\n",
    "result_shape_url1 = shape(url_poisonous) \n",
    "result_shape_url2 = shape(url_edible)\n",
    "result_shape_url3 = shape(url_inedible)\n",
    "print(\"Shape:\", result_shape_url1)\n",
    "print(\"Shape:\", result_shape_url2)\n",
    "print(\"Shape:\", result_shape_url3)\n",
    "\n",
    "result_surface_url1 = surface(url_poisonous)\n",
    "result_surface_url2 = surface(url_edible)\n",
    "result_surface_url3 = surface(url_inedible)\n",
    "print(\"Surface:\", result_surface_url1)\n",
    "print(\"Surface:\", result_surface_url2)\n",
    "print(\"Surface:\", result_surface_url3)\n",
    "\n",
    "result_csv_url1 = csvv(url_poisonous)\n",
    "result_csv_url2 = csvv(url_edible)\n",
    "result_csv_url3 = csvv(url_inedible)\n",
    "print(\"csv:\", result_csv_url1)\n",
    "print(\"csv:\", result_csv_url2)\n",
    "print(\"csv:\", result_csv_url3)\n"
   ]
  },
  {
   "cell_type": "markdown",
   "metadata": {},
   "source": [
    "Question 5 :\n",
    "tout d'abord la fonction pour récupérer les liens de champignons\n",
    "ensuite une fonction pour écrire dans le fichier CSV\n",
    "puis la fonction principale pour parcourir les pages et générer le fichier CSV"
   ]
  },
  {
   "cell_type": "code",
   "execution_count": 11,
   "metadata": {},
   "outputs": [],
   "source": [
    "\n",
    "\n",
    "def get_champignion_links(): \n",
    "    kl = requests.get(\"https://ultimate-mushroom.com/mushroom-alphabet.html\")\n",
    "    soup = BeautifulSoup(kl.text, \"html.parser\")\n",
    "    champignion_links = []\n",
    "    # Trouver tous les liens vers les pages de champignons\n",
    "    for a_tag in soup.find_all('a', href=True):\n",
    "        href = a_tag.get('href', '')\n",
    "        if 'ultimate-mushroom.com/' in href:\n",
    "            champignion_links.append(href)\n",
    "\n",
    "\n",
    "    return champignion_links\n",
    "\n",
    "def write_to_csv(file_path, data):\n",
    "    with open(file_path,'a', newline='', encoding='utf-8') as csvfile:\n",
    "        csv_writer = csv.writer(csvfile)\n",
    "        csv_writer.writerow(data)\n",
    "\n",
    "\n",
    "def generate_csv_for_champignions():\n",
    "    champignion_links = get_champignion_links()\n",
    "    first_row = [\"Edible\", \"Color\", \"Shape\", \"Surface\"]\n",
    "    write_to_csv(\"champignons.csv\", first_row)\n",
    "\n",
    "    for link in champignion_links:\n",
    "        champignion_type = comestible(link)\n",
    "        champignion_color = color(link)\n",
    "        champignion_shape = shape(link)\n",
    "        champignion_surface = surface(link)\n",
    "        champignion_data = [champignion_type,champignion_color, champignion_shape, champignion_surface]\n",
    "        write_to_csv(\"champignons.csv\", champignion_data)"
   ]
  },
  {
   "cell_type": "code",
   "execution_count": null,
   "metadata": {},
   "outputs": [],
   "source": [
    "#Appel a la fonction de creation de csv\n",
    "# generate_csv_for_champignions()"
   ]
  },
  {
   "cell_type": "markdown",
   "metadata": {},
   "source": [
    "Question 7 : vérification de donnée ; par une importation de nos données ecrites dans un fichier csv "
   ]
  },
  {
   "cell_type": "code",
   "execution_count": 20,
   "metadata": {},
   "outputs": [
    {
     "name": "stdout",
     "output_type": "stream",
     "text": [
      "Dimensions du DataFrame : (210, 4)\n",
      "Noms des colonnes : Index(['Edible', 'Color', 'Shape', 'Surface'], dtype='object')\n"
     ]
    }
   ],
   "source": [
    "champignons = pd.read_csv(\"champignons.csv\")\n",
    "\n",
    "print(\"Dimensions du DataFrame :\", champignons.shape)\n",
    "print(\"Noms des colonnes :\", champignons.columns)"
   ]
  },
  {
   "cell_type": "markdown",
   "metadata": {},
   "source": [
    "Question 8 : Inspecter les données de la colonne \"Edible\"\n",
    "\n",
    "Question 9 : ensuite remplacer les valeurs 'E', 'I' et 'P' par les valeurs numériques 0, 1 et 2 \n"
   ]
  },
  {
   "cell_type": "code",
   "execution_count": 21,
   "metadata": {},
   "outputs": [
    {
     "name": "stdout",
     "output_type": "stream",
     "text": [
      "Edible\n",
      "E      100\n",
      "P       81\n",
      "I       27\n",
      "NaN      2\n",
      "Name: count, dtype: int64\n",
      "Edible\n",
      "0.0    100\n",
      "2.0     81\n",
      "1.0     27\n",
      "NaN      2\n",
      "Name: count, dtype: int64\n",
      "   Edible         Color        Shape      Surface\n",
      "0     2.0          Pale     Polypore       Smooth\n",
      "1     0.0         White       Convex       Smooth\n",
      "2     0.0  White-Yellow       Convex       Smooth\n",
      "3     0.0         White  Bell-shaped       Smooth\n",
      "4     0.0         Brown  Bell-shaped  Flat Scales\n"
     ]
    }
   ],
   "source": [
    "print(champignons['Edible'].value_counts(dropna=False))\n",
    "champignons['Edible'] = champignons['Edible'].replace({'E': 0, 'I': 1, 'P': 2})\n",
    "print(champignons['Edible'].value_counts(dropna=False))\n",
    "print(champignons.head())"
   ]
  },
  {
   "cell_type": "markdown",
   "metadata": {},
   "source": [
    "Question 10 : À l’aide de la méthode fillna(), remplacer les valeurs manquantes par des -1."
   ]
  },
  {
   "cell_type": "code",
   "execution_count": 22,
   "metadata": {},
   "outputs": [
    {
     "name": "stdout",
     "output_type": "stream",
     "text": [
      "Edible\n",
      " 0.0    100\n",
      " 2.0     81\n",
      " 1.0     27\n",
      "-1.0      2\n",
      "Name: count, dtype: int64\n"
     ]
    }
   ],
   "source": [
    "champignons['Edible'] = champignons['Edible'].fillna(-1)\n",
    "print(champignons['Edible'].value_counts(dropna=False))"
   ]
  },
  {
   "cell_type": "markdown",
   "metadata": {},
   "source": [
    "Question 12 : Pour chaque valeur unique, créez une nouvelle colonne et remplissez-la avec 1 si la valeur apparaît dans le champ \"Shape\" de la ligne respective\n"
   ]
  },
  {
   "cell_type": "code",
   "execution_count": 25,
   "metadata": {},
   "outputs": [
    {
     "name": "stdout",
     "output_type": "stream",
     "text": [
      "   Edible         Color        Shape      Surface  Polypore  Convex  Bell  \\\n",
      "0     2.0          Pale     Polypore       Smooth         1       0     0   \n",
      "1     0.0         White       Convex       Smooth         0       1     0   \n",
      "2     0.0  White-Yellow       Convex       Smooth         0       1     0   \n",
      "3     0.0         White  Bell-shaped       Smooth         0       0     1   \n",
      "4     0.0         Brown  Bell-shaped  Flat Scales         0       0     1   \n",
      "\n",
      "   shaped  Depressed  CupFungi  ...  Funnel  Smooth  Flat Scales  Fibrous  \\\n",
      "0       0          0         0  ...       0       1            0        0   \n",
      "1       0          0         0  ...       0       1            0        0   \n",
      "2       0          0         0  ...       0       1            0        0   \n",
      "3       1          0         0  ...       0       1            0        0   \n",
      "4       1          0         0  ...       0       0            1        0   \n",
      "\n",
      "   Patches  Raised Scales  Hairy  Powder  Silky  Velvety  \n",
      "0        0              0      0       0      0        0  \n",
      "1        0              0      0       0      0        0  \n",
      "2        0              0      0       0      0        0  \n",
      "3        0              0      0       0      0        0  \n",
      "4        0              0      0       0      0        0  \n",
      "\n",
      "[5 rows x 29 columns]\n"
     ]
    }
   ],
   "source": [
    "unique_shapes = pd.unique(champignons['Shape'].str.split(\"-\").explode().dropna())\n",
    "\n",
    "for shape in unique_shapes:\n",
    "    champignons[shape] = champignons['Shape'].str.contains(shape).fillna(False).astype(int)\n",
    "print(champignons.head())"
   ]
  },
  {
   "cell_type": "markdown",
   "metadata": {},
   "source": [
    "Question 13 : la meme chose mais pour la colonne surface en factorisant le code "
   ]
  },
  {
   "cell_type": "code",
   "execution_count": 26,
   "metadata": {},
   "outputs": [
    {
     "name": "stdout",
     "output_type": "stream",
     "text": [
      "   Edible         Color        Shape      Surface  Polypore  Convex  Bell  \\\n",
      "0     2.0          Pale     Polypore       Smooth         1       0     0   \n",
      "1     0.0         White       Convex       Smooth         0       1     0   \n",
      "2     0.0  White-Yellow       Convex       Smooth         0       1     0   \n",
      "3     0.0         White  Bell-shaped       Smooth         0       0     1   \n",
      "4     0.0         Brown  Bell-shaped  Flat Scales         0       0     1   \n",
      "\n",
      "   shaped  Depressed  CupFungi  ...  Funnel  Smooth  Flat Scales  Fibrous  \\\n",
      "0       0          0         0  ...       0       1            0        0   \n",
      "1       0          0         0  ...       0       1            0        0   \n",
      "2       0          0         0  ...       0       1            0        0   \n",
      "3       1          0         0  ...       0       1            0        0   \n",
      "4       1          0         0  ...       0       0            1        0   \n",
      "\n",
      "   Patches  Raised Scales  Hairy  Powder  Silky  Velvety  \n",
      "0        0              0      0       0      0        0  \n",
      "1        0              0      0       0      0        0  \n",
      "2        0              0      0       0      0        0  \n",
      "3        0              0      0       0      0        0  \n",
      "4        0              0      0       0      0        0  \n",
      "\n",
      "[5 rows x 29 columns]\n"
     ]
    }
   ],
   "source": [
    "def create_indicator_columns(df, column_name):\n",
    "    unique_values = pd.unique(df[column_name].str.split(\"-\").explode().dropna())\n",
    "    for value in unique_values:\n",
    "        df[value] = df[column_name].str.contains(value, na=False).astype(int)\n",
    "\n",
    "create_indicator_columns(champignons, \"Surface\")\n",
    "\n",
    "print(champignons.head())"
   ]
  },
  {
   "cell_type": "markdown",
   "metadata": {},
   "source": [
    "Supprimer les colonnes \"Shape\" et \"Surface\""
   ]
  },
  {
   "cell_type": "code",
   "execution_count": 29,
   "metadata": {},
   "outputs": [
    {
     "ename": "KeyError",
     "evalue": "\"['Shape', 'Surface'] not found in axis\"",
     "output_type": "error",
     "traceback": [
      "\u001b[1;31m---------------------------------------------------------------------------\u001b[0m",
      "\u001b[1;31mKeyError\u001b[0m                                  Traceback (most recent call last)",
      "Cell \u001b[1;32mIn[29], line 1\u001b[0m\n\u001b[1;32m----> 1\u001b[0m champignons\u001b[38;5;241m.\u001b[39mdrop(columns\u001b[38;5;241m=\u001b[39m[\u001b[38;5;124m\"\u001b[39m\u001b[38;5;124mShape\u001b[39m\u001b[38;5;124m\"\u001b[39m, \u001b[38;5;124m\"\u001b[39m\u001b[38;5;124mSurface\u001b[39m\u001b[38;5;124m\"\u001b[39m], axis\u001b[38;5;241m=\u001b[39m\u001b[38;5;241m1\u001b[39m,inplace\u001b[38;5;241m=\u001b[39m\u001b[38;5;28;01mTrue\u001b[39;00m)\n",
      "File \u001b[1;32mc:\\Users\\Etudiant\\anaconda3\\Lib\\site-packages\\pandas\\core\\frame.py:5258\u001b[0m, in \u001b[0;36mDataFrame.drop\u001b[1;34m(self, labels, axis, index, columns, level, inplace, errors)\u001b[0m\n\u001b[0;32m   5110\u001b[0m \u001b[38;5;28;01mdef\u001b[39;00m \u001b[38;5;21mdrop\u001b[39m(\n\u001b[0;32m   5111\u001b[0m     \u001b[38;5;28mself\u001b[39m,\n\u001b[0;32m   5112\u001b[0m     labels: IndexLabel \u001b[38;5;241m=\u001b[39m \u001b[38;5;28;01mNone\u001b[39;00m,\n\u001b[1;32m   (...)\u001b[0m\n\u001b[0;32m   5119\u001b[0m     errors: IgnoreRaise \u001b[38;5;241m=\u001b[39m \u001b[38;5;124m\"\u001b[39m\u001b[38;5;124mraise\u001b[39m\u001b[38;5;124m\"\u001b[39m,\n\u001b[0;32m   5120\u001b[0m ) \u001b[38;5;241m-\u001b[39m\u001b[38;5;241m>\u001b[39m DataFrame \u001b[38;5;241m|\u001b[39m \u001b[38;5;28;01mNone\u001b[39;00m:\n\u001b[0;32m   5121\u001b[0m \u001b[38;5;250m    \u001b[39m\u001b[38;5;124;03m\"\"\"\u001b[39;00m\n\u001b[0;32m   5122\u001b[0m \u001b[38;5;124;03m    Drop specified labels from rows or columns.\u001b[39;00m\n\u001b[0;32m   5123\u001b[0m \n\u001b[1;32m   (...)\u001b[0m\n\u001b[0;32m   5256\u001b[0m \u001b[38;5;124;03m            weight  1.0     0.8\u001b[39;00m\n\u001b[0;32m   5257\u001b[0m \u001b[38;5;124;03m    \"\"\"\u001b[39;00m\n\u001b[1;32m-> 5258\u001b[0m     \u001b[38;5;28;01mreturn\u001b[39;00m \u001b[38;5;28msuper\u001b[39m()\u001b[38;5;241m.\u001b[39mdrop(\n\u001b[0;32m   5259\u001b[0m         labels\u001b[38;5;241m=\u001b[39mlabels,\n\u001b[0;32m   5260\u001b[0m         axis\u001b[38;5;241m=\u001b[39maxis,\n\u001b[0;32m   5261\u001b[0m         index\u001b[38;5;241m=\u001b[39mindex,\n\u001b[0;32m   5262\u001b[0m         columns\u001b[38;5;241m=\u001b[39mcolumns,\n\u001b[0;32m   5263\u001b[0m         level\u001b[38;5;241m=\u001b[39mlevel,\n\u001b[0;32m   5264\u001b[0m         inplace\u001b[38;5;241m=\u001b[39minplace,\n\u001b[0;32m   5265\u001b[0m         errors\u001b[38;5;241m=\u001b[39merrors,\n\u001b[0;32m   5266\u001b[0m     )\n",
      "File \u001b[1;32mc:\\Users\\Etudiant\\anaconda3\\Lib\\site-packages\\pandas\\core\\generic.py:4549\u001b[0m, in \u001b[0;36mNDFrame.drop\u001b[1;34m(self, labels, axis, index, columns, level, inplace, errors)\u001b[0m\n\u001b[0;32m   4547\u001b[0m \u001b[38;5;28;01mfor\u001b[39;00m axis, labels \u001b[38;5;129;01min\u001b[39;00m axes\u001b[38;5;241m.\u001b[39mitems():\n\u001b[0;32m   4548\u001b[0m     \u001b[38;5;28;01mif\u001b[39;00m labels \u001b[38;5;129;01mis\u001b[39;00m \u001b[38;5;129;01mnot\u001b[39;00m \u001b[38;5;28;01mNone\u001b[39;00m:\n\u001b[1;32m-> 4549\u001b[0m         obj \u001b[38;5;241m=\u001b[39m obj\u001b[38;5;241m.\u001b[39m_drop_axis(labels, axis, level\u001b[38;5;241m=\u001b[39mlevel, errors\u001b[38;5;241m=\u001b[39merrors)\n\u001b[0;32m   4551\u001b[0m \u001b[38;5;28;01mif\u001b[39;00m inplace:\n\u001b[0;32m   4552\u001b[0m     \u001b[38;5;28mself\u001b[39m\u001b[38;5;241m.\u001b[39m_update_inplace(obj)\n",
      "File \u001b[1;32mc:\\Users\\Etudiant\\anaconda3\\Lib\\site-packages\\pandas\\core\\generic.py:4591\u001b[0m, in \u001b[0;36mNDFrame._drop_axis\u001b[1;34m(self, labels, axis, level, errors, only_slice)\u001b[0m\n\u001b[0;32m   4589\u001b[0m         new_axis \u001b[38;5;241m=\u001b[39m axis\u001b[38;5;241m.\u001b[39mdrop(labels, level\u001b[38;5;241m=\u001b[39mlevel, errors\u001b[38;5;241m=\u001b[39merrors)\n\u001b[0;32m   4590\u001b[0m     \u001b[38;5;28;01melse\u001b[39;00m:\n\u001b[1;32m-> 4591\u001b[0m         new_axis \u001b[38;5;241m=\u001b[39m axis\u001b[38;5;241m.\u001b[39mdrop(labels, errors\u001b[38;5;241m=\u001b[39merrors)\n\u001b[0;32m   4592\u001b[0m     indexer \u001b[38;5;241m=\u001b[39m axis\u001b[38;5;241m.\u001b[39mget_indexer(new_axis)\n\u001b[0;32m   4594\u001b[0m \u001b[38;5;66;03m# Case for non-unique axis\u001b[39;00m\n\u001b[0;32m   4595\u001b[0m \u001b[38;5;28;01melse\u001b[39;00m:\n",
      "File \u001b[1;32mc:\\Users\\Etudiant\\anaconda3\\Lib\\site-packages\\pandas\\core\\indexes\\base.py:6699\u001b[0m, in \u001b[0;36mIndex.drop\u001b[1;34m(self, labels, errors)\u001b[0m\n\u001b[0;32m   6697\u001b[0m \u001b[38;5;28;01mif\u001b[39;00m mask\u001b[38;5;241m.\u001b[39many():\n\u001b[0;32m   6698\u001b[0m     \u001b[38;5;28;01mif\u001b[39;00m errors \u001b[38;5;241m!=\u001b[39m \u001b[38;5;124m\"\u001b[39m\u001b[38;5;124mignore\u001b[39m\u001b[38;5;124m\"\u001b[39m:\n\u001b[1;32m-> 6699\u001b[0m         \u001b[38;5;28;01mraise\u001b[39;00m \u001b[38;5;167;01mKeyError\u001b[39;00m(\u001b[38;5;124mf\u001b[39m\u001b[38;5;124m\"\u001b[39m\u001b[38;5;132;01m{\u001b[39;00m\u001b[38;5;28mlist\u001b[39m(labels[mask])\u001b[38;5;132;01m}\u001b[39;00m\u001b[38;5;124m not found in axis\u001b[39m\u001b[38;5;124m\"\u001b[39m)\n\u001b[0;32m   6700\u001b[0m     indexer \u001b[38;5;241m=\u001b[39m indexer[\u001b[38;5;241m~\u001b[39mmask]\n\u001b[0;32m   6701\u001b[0m \u001b[38;5;28;01mreturn\u001b[39;00m \u001b[38;5;28mself\u001b[39m\u001b[38;5;241m.\u001b[39mdelete(indexer)\n",
      "\u001b[1;31mKeyError\u001b[0m: \"['Shape', 'Surface'] not found in axis\""
     ]
    }
   ],
   "source": [
    "champignons.drop(columns=[\"Shape\", \"Surface\"], axis=1,inplace=True)\n",
    "# ici j'ai executé deux fois : resultat dans le deuxiem fois les deux colonnes n'existait plus donc erreur mais le resultat de la question c'et fait "
   ]
  },
  {
   "cell_type": "code",
   "execution_count": 31,
   "metadata": {},
   "outputs": [
    {
     "name": "stdout",
     "output_type": "stream",
     "text": [
      "Dimensions de la DataFrame après suppression des colonnes Shape et Surface : (210, 27)\n",
      "   Edible         Color  Polypore  Convex  Bell  shaped  Depressed  CupFungi  \\\n",
      "0     2.0          Pale         1       0     0       0          0         0   \n",
      "1     0.0         White         0       1     0       0          0         0   \n",
      "2     0.0  White-Yellow         0       1     0       0          0         0   \n",
      "3     0.0         White         0       0     1       1          0         0   \n",
      "4     0.0         Brown         0       0     1       1          0         0   \n",
      "\n",
      "   CoralFungi  Conical  ...  Funnel  Smooth  Flat Scales  Fibrous  Patches  \\\n",
      "0           0        0  ...       0       1            0        0        0   \n",
      "1           0        0  ...       0       1            0        0        0   \n",
      "2           0        0  ...       0       1            0        0        0   \n",
      "3           0        0  ...       0       1            0        0        0   \n",
      "4           0        0  ...       0       0            1        0        0   \n",
      "\n",
      "   Raised Scales  Hairy  Powder  Silky  Velvety  \n",
      "0              0      0       0      0        0  \n",
      "1              0      0       0      0        0  \n",
      "2              0      0       0      0        0  \n",
      "3              0      0       0      0        0  \n",
      "4              0      0       0      0        0  \n",
      "\n",
      "[5 rows x 27 columns]\n"
     ]
    }
   ],
   "source": [
    "# verification de la supprission\n",
    "print(\"Dimensions de la DataFrame après suppression des colonnes Shape et Surface :\", champignons.shape)\n",
    "print(champignons.head())"
   ]
  },
  {
   "cell_type": "markdown",
   "metadata": {},
   "source": [
    "Question 14 : la liste des couleurs individuelles présentes dans notre jeu de données."
   ]
  },
  {
   "cell_type": "code",
   "execution_count": 34,
   "metadata": {},
   "outputs": [
    {
     "name": "stdout",
     "output_type": "stream",
     "text": [
      "Nombre de couleurs : 15\n",
      "['Pale' 'White' 'Yellow' 'Brown' 'Pink' 'Purple' 'Tan' 'Orange' 'Gray'\n",
      " 'Red' 'Dark' 'Green' 'Blue' 'Violet' 'Lilac']\n"
     ]
    }
   ],
   "source": [
    "unique_colors = pd.unique(champignons[\"Color\"].str.split(\"-\").explode().dropna())\n",
    "\n",
    "print(\"Nombre de couleurs :\", len(unique_colors))\n",
    "print(unique_colors)"
   ]
  },
  {
   "cell_type": "markdown",
   "metadata": {},
   "source": [
    "Question 15 : Créer un DataFrame"
   ]
  },
  {
   "cell_type": "code",
   "execution_count": 36,
   "metadata": {},
   "outputs": [
    {
     "name": "stdout",
     "output_type": "stream",
     "text": [
      "     Color    R    G    B\n",
      "0     Pale  255  229  180\n",
      "1    White  255  255  255\n",
      "2   Yellow  255  255    0\n",
      "3    Brown  165   42   42\n",
      "4     Pink  255  192  203\n",
      "5   Purple  128    0  128\n",
      "6      Tan  210  180  140\n",
      "7   Orange  255  165    0\n",
      "8     Gray  128  128  128\n",
      "9      Red  255    0    0\n",
      "10    Dark    0    0    0\n",
      "11   Green    0  128    0\n",
      "12    Blue    0    0  255\n",
      "13  Violet  238  130  238\n",
      "14   Lilac  200  162  200\n"
     ]
    }
   ],
   "source": [
    "data = {\n",
    "    \"Color\": unique_colors,\n",
    "    \"R\": [255, 255, 255, 165, 255, 128, 210, 255, 128, 255, 0, 0, 0, 238, 200], \n",
    "    \"G\": [229, 255, 255, 42, 192, 0, 180, 165, 128, 0, 0, 128, 0, 130, 162],  \n",
    "    \"B\": [180, 255, 0, 42, 203, 128, 140, 0, 128, 0, 0, 0, 255, 238, 200] \n",
    "}\n",
    "colors_df = pd.DataFrame(data)\n",
    "print(colors_df)"
   ]
  },
  {
   "cell_type": "markdown",
   "metadata": {},
   "source": [
    "Question 16 : Construire un DataFrame colors ayant une seule colonne, qui contient le nom de chaque combinaison unique de couleurs apparaissant parmi les champignons."
   ]
  },
  {
   "cell_type": "code",
   "execution_count": 37,
   "metadata": {},
   "outputs": [
    {
     "name": "stdout",
     "output_type": "stream",
     "text": [
      "            Color\n",
      "0            Pale\n",
      "1           White\n",
      "2    White-Yellow\n",
      "3           Brown\n",
      "4             NaN\n",
      "5      White-Pale\n",
      "6     White-Brown\n",
      "7      Pink-Brown\n",
      "8    Purple-Brown\n",
      "9          Yellow\n",
      "10     Pale-Brown\n",
      "11       Pale-Tan\n",
      "12         Orange\n",
      "13         Purple\n",
      "14     Brown-Gray\n",
      "15     Pale-White\n",
      "16            Red\n",
      "17     Gray-Brown\n",
      "18           Gray\n",
      "19   Orange-Brown\n",
      "20   Yellow-Brown\n",
      "21   Brown-Yellow\n",
      "22      Gray-Dark\n",
      "23    Brown-White\n",
      "24     Brown-Dark\n",
      "25     Dark-Brown\n",
      "26           Dark\n",
      "27      Red-Brown\n",
      "28     White-Gray\n",
      "29      Gray-Pale\n",
      "30       Pink-Red\n",
      "31  Orange-Yellow\n",
      "32  Yellow-Orange\n",
      "33      White-Tan\n",
      "34     Orange-Red\n",
      "35     Green-Gray\n",
      "36     Blue-Green\n",
      "37           Blue\n",
      "38     Brown-Pale\n",
      "39   Yellow-Green\n",
      "40  Purple-Violet\n",
      "41   Lilac-Yellow\n",
      "42       Tan-Pale\n",
      "43  Violet-Purple\n",
      "44      Pale-Gray\n",
      "45         Violet\n"
     ]
    }
   ],
   "source": [
    "unique_colors_combin= pd.unique(champignons['Color'])\n",
    "colors = pd.DataFrame(unique_colors_combin,columns=['Color'])\n",
    "print(colors)"
   ]
  },
  {
   "cell_type": "markdown",
   "metadata": {},
   "source": [
    "Question 17 : \n"
   ]
  },
  {
   "cell_type": "code",
   "execution_count": 38,
   "metadata": {},
   "outputs": [
    {
     "name": "stdout",
     "output_type": "stream",
     "text": [
      "            Color      R      G      B\n",
      "0            Pale  255.0  229.0  180.0\n",
      "1           White  255.0  255.0  255.0\n",
      "2    White-Yellow  255.0  255.0  127.5\n",
      "3           Brown  165.0   42.0   42.0\n",
      "4             NaN    NaN    NaN    NaN\n",
      "5      White-Pale  255.0  242.0  217.5\n",
      "6     White-Brown  210.0  148.5  148.5\n",
      "7      Pink-Brown  210.0  117.0  122.5\n",
      "8    Purple-Brown  146.5   21.0   85.0\n",
      "9          Yellow  255.0  255.0    0.0\n",
      "10     Pale-Brown  210.0  135.5  111.0\n",
      "11       Pale-Tan  232.5  204.5  160.0\n",
      "12         Orange  255.0  165.0    0.0\n",
      "13         Purple  128.0    0.0  128.0\n",
      "14     Brown-Gray  146.5   85.0   85.0\n",
      "15     Pale-White  255.0  242.0  217.5\n",
      "16            Red  255.0    0.0    0.0\n",
      "17     Gray-Brown  146.5   85.0   85.0\n",
      "18           Gray  128.0  128.0  128.0\n",
      "19   Orange-Brown  210.0  103.5   21.0\n",
      "20   Yellow-Brown  210.0  148.5   21.0\n",
      "21   Brown-Yellow  210.0  148.5   21.0\n",
      "22      Gray-Dark   64.0   64.0   64.0\n",
      "23    Brown-White  210.0  148.5  148.5\n",
      "24     Brown-Dark   82.5   21.0   21.0\n",
      "25     Dark-Brown   82.5   21.0   21.0\n",
      "26           Dark    0.0    0.0    0.0\n",
      "27      Red-Brown  210.0   21.0   21.0\n",
      "28     White-Gray  191.5  191.5  191.5\n",
      "29      Gray-Pale  191.5  178.5  154.0\n",
      "30       Pink-Red  255.0   96.0  101.5\n",
      "31  Orange-Yellow  255.0  210.0    0.0\n",
      "32  Yellow-Orange  255.0  210.0    0.0\n",
      "33      White-Tan  232.5  217.5  197.5\n",
      "34     Orange-Red  255.0   82.5    0.0\n",
      "35     Green-Gray   64.0  128.0   64.0\n",
      "36     Blue-Green    0.0   64.0  127.5\n",
      "37           Blue    0.0    0.0  255.0\n",
      "38     Brown-Pale  210.0  135.5  111.0\n",
      "39   Yellow-Green  127.5  191.5    0.0\n",
      "40  Purple-Violet  183.0   65.0  183.0\n",
      "41   Lilac-Yellow  227.5  208.5  100.0\n",
      "42       Tan-Pale  232.5  204.5  160.0\n",
      "43  Violet-Purple  183.0   65.0  183.0\n",
      "44      Pale-Gray  191.5  178.5  154.0\n",
      "45         Violet  238.0  130.0  238.0\n"
     ]
    }
   ],
   "source": [
    "combinaison = colors['Color'].str.split('-', expand=True)\n",
    "combinaison.columns = ['Color1', 'Color2']\n",
    "\n",
    "for col in ['Color1', 'Color2']:\n",
    "    combinaison = combinaison.merge(colors_df, left_on=col, right_on='Color', how='left', suffixes=('', '_'+col))\n",
    "\n",
    "combinaison['R'] = combinaison[['R', 'R_Color2']].mean(axis=1)\n",
    "combinaison['G'] = combinaison[['G', 'G_Color2']].mean(axis=1)\n",
    "combinaison['B'] = combinaison[['B', 'B_Color2']].mean(axis=1)\n",
    "\n",
    "combinaison.drop(['Color', 'R_Color2', 'G_Color2', 'B_Color2', 'Color1', 'Color2','Color_Color2'], axis=1, inplace=True)\n",
    "\n",
    "colors = colors.join(combinaison, how='left')\n",
    "print(colors)"
   ]
  },
  {
   "cell_type": "markdown",
   "metadata": {},
   "source": [
    "Question 18 : on va crée une  copie pour éviter de modifier les donnée d'origine \n",
    "comme à la question 13 "
   ]
  },
  {
   "cell_type": "code",
   "execution_count": 39,
   "metadata": {},
   "outputs": [
    {
     "name": "stdout",
     "output_type": "stream",
     "text": [
      "   Edible  Polypore  Convex  Bell  shaped  Depressed  CupFungi  CoralFungi  \\\n",
      "0     2.0         1       0     0       0          0         0           0   \n",
      "1     0.0         0       1     0       0          0         0           0   \n",
      "2     0.0         0       1     0       0          0         0           0   \n",
      "3     0.0         0       0     1       1          0         0           0   \n",
      "4     0.0         0       0     1       1          0         0           0   \n",
      "\n",
      "   Conical  Flat  ...  Fibrous  Patches  Raised Scales  Hairy  Powder  Silky  \\\n",
      "0        0     0  ...        0        0              0      0       0      0   \n",
      "1        0     0  ...        0        0              0      0       0      0   \n",
      "2        0     0  ...        0        0              0      0       0      0   \n",
      "3        0     0  ...        0        0              0      0       0      0   \n",
      "4        0     0  ...        0        0              0      0       0      0   \n",
      "\n",
      "   Velvety      R      G      B  \n",
      "0        0  255.0  229.0  180.0  \n",
      "1        0  255.0  255.0  255.0  \n",
      "2        0 -255.0 -255.0 -255.0  \n",
      "3        0  255.0  255.0  255.0  \n",
      "4        0  165.0   42.0   42.0  \n",
      "\n",
      "[5 rows x 29 columns]\n"
     ]
    }
   ],
   "source": [
    "champignons_copy = champignons.copy()\n",
    "champignons_copy = pd.merge(champignons, colors_df, left_on='Color', right_on='Color', how='left')\n",
    "champignons_copy[['R', 'G', 'B']] = champignons_copy[['R', 'G', 'B']].fillna(-255)\n",
    "champignons_copy.drop(columns=['Color'], inplace=True)\n",
    "print(champignons_copy.head())"
   ]
  },
  {
   "cell_type": "markdown",
   "metadata": {},
   "source": [
    "Question 19 : Séparer les données en un jeu d’entraînement et un jeu de test, sur un base 75%/25%."
   ]
  },
  {
   "cell_type": "code",
   "execution_count": 42,
   "metadata": {},
   "outputs": [
    {
     "name": "stdout",
     "output_type": "stream",
     "text": [
      "Dimensions du jeu d'entraînement X : (157, 28)\n",
      "Dimensions du jeu de test X : (53, 28)\n",
      "Dimensions du jeu d'entraînement y : (157,)\n",
      "Dimensions du jeu de test y : (53,)\n"
     ]
    }
   ],
   "source": [
    "X = champignons_copy.drop(columns=['Edible'])  # features\n",
    "y = champignons_copy['Edible']  # cible\n",
    "\n",
    "X_train, X_test, y_train, y_test = train_test_split(X, y, test_size=0.25, random_state=42)\n",
    "\n",
    "print(\"Dimensions du jeu d'entraînement X :\", X_train.shape)\n",
    "print(\"Dimensions du jeu de test X :\", X_test.shape)\n",
    "print(\"Dimensions du jeu d'entraînement y :\", y_train.shape)\n",
    "print(\"Dimensions du jeu de test y :\", y_test.shape)"
   ]
  },
  {
   "cell_type": "markdown",
   "metadata": {},
   "source": [
    "Question 20 Entraîner un modèle SVC sur le premier jeu.\n",
    "Évaluer l’accuracy_score de ce modèle sur le jeu de test, puis détailler les résultats via une\n",
    "confusion_matrix."
   ]
  },
  {
   "cell_type": "code",
   "execution_count": 43,
   "metadata": {},
   "outputs": [
    {
     "name": "stdout",
     "output_type": "stream",
     "text": [
      "Accuracy Score: 0.6037735849056604\n",
      "Confusion Matrix:\n",
      "[[28  0  1]\n",
      " [ 3  0  1]\n",
      " [16  0  4]]\n"
     ]
    }
   ],
   "source": [
    "svc_model = SVC()\n",
    "svc_model.fit(X_train, y_train)\n",
    "\n",
    "y_pred = svc_model.predict(X_test)\n",
    "\n",
    "accuracy = accuracy_score(y_test, y_pred)\n",
    "print(\"Accuracy Score:\", accuracy)\n",
    "\n",
    "conf_matrix = confusion_matrix(y_test, y_pred)\n",
    "print(\"Confusion Matrix:\")\n",
    "print(conf_matrix)"
   ]
  },
  {
   "cell_type": "markdown",
   "metadata": {},
   "source": [
    "Question 21 : Reprendre la Question 20, en standardisant les colonnes dans un premier temps, via\n",
    "un StandardScaler."
   ]
  },
  {
   "cell_type": "code",
   "execution_count": 44,
   "metadata": {},
   "outputs": [
    {
     "name": "stdout",
     "output_type": "stream",
     "text": [
      "Accuracy Score: 0.660377358490566\n",
      "Confusion Matrix 2:\n",
      "[[27  0  2]\n",
      " [ 2  0  2]\n",
      " [11  1  8]]\n"
     ]
    }
   ],
   "source": [
    "standard = StandardScaler()\n",
    "X_train_standard = standard.fit_transform(X_train)\n",
    "X_test_standard = standard.transform(X_test)\n",
    "\n",
    "svc_model2 = SVC()\n",
    "svc_model2.fit(X_train_standard, y_train)\n",
    "\n",
    "y_pred = svc_model2.predict(X_test_standard)\n",
    "\n",
    "accuracy = accuracy_score(y_test, y_pred)\n",
    "print(\"Accuracy Score:\", accuracy)\n",
    "\n",
    "conf_matrix2 = confusion_matrix(y_test, y_pred)\n",
    "print(\"Confusion Matrix 2:\")\n",
    "print(conf_matrix2)\n"
   ]
  },
  {
   "cell_type": "markdown",
   "metadata": {},
   "source": [
    "Question 22 : Reprendre les Questions 20 et 21 en entraînant cette fois un arbre de décision"
   ]
  },
  {
   "cell_type": "code",
   "execution_count": 45,
   "metadata": {},
   "outputs": [
    {
     "name": "stdout",
     "output_type": "stream",
     "text": [
      "Accuracy du modèle d'arbre de décision:  0.6037735849056604\n",
      "Confusion Matrix 3:\n",
      "[[29  0  0]\n",
      " [ 2  1  1]\n",
      " [16  2  2]]\n"
     ]
    }
   ],
   "source": [
    "arbre_décision = DecisionTreeClassifier(max_depth=3, random_state=42)\n",
    "arbre_décision.fit(X_train, y_train)\n",
    "\n",
    "# Prédiction sur le jeu de test\n",
    "Y_pred_dt = arbre_décision.predict(X_test)\n",
    "\n",
    "# Calcul et affichage de l'accuracy\n",
    "accuracy_dt = accuracy_score(y_test, Y_pred_dt)\n",
    "print(\"Accuracy du modèle d'arbre de décision: \" , accuracy_dt)\n",
    "\n",
    "conf_matrix3 = confusion_matrix(y_test, Y_pred_dt)\n",
    "print(\"Confusion Matrix 3:\")\n",
    "print(conf_matrix3)\n"
   ]
  },
  {
   "cell_type": "markdown",
   "metadata": {},
   "source": [
    "Question 23 : "
   ]
  },
  {
   "cell_type": "code",
   "execution_count": 60,
   "metadata": {},
   "outputs": [
    {
     "name": "stdout",
     "output_type": "stream",
     "text": [
      "digraph Tree {\n",
      "node [shape=box, style=\"filled, rounded\", color=\"black\", fontname=\"helvetica\"] ;\n",
      "edge [fontname=\"helvetica\"] ;\n",
      "0 [label=<Powder &le; 0.5<br/>gini = 0.623<br/>samples = 157<br/>value = [2, 71, 23, 61]>, fillcolor=\"#ecfcea\"] ;\n",
      "1 [label=<CupFungi &le; 0.5<br/>gini = 0.617<br/>samples = 155<br/>value = [2, 71, 21, 61]>, fillcolor=\"#ebfcea\"] ;\n",
      "0 -> 1 [labeldistance=2.5, labelangle=45, headlabel=\"True\"] ;\n",
      "2 [label=<Polypore &le; 0.5<br/>gini = 0.601<br/>samples = 142<br/>value = [2, 69, 16, 55]>, fillcolor=\"#e1fbdf\"] ;\n",
      "1 -> 2 ;\n",
      "3 [label=<gini = 0.584<br/>samples = 135<br/>value = [2, 68, 12, 53]>, fillcolor=\"#ddfadb\"] ;\n",
      "2 -> 3 ;\n",
      "4 [label=<gini = 0.571<br/>samples = 7<br/>value = [0, 1, 4, 2]>, fillcolor=\"#b0d8f5\"] ;\n",
      "2 -> 4 ;\n",
      "5 [label=<G &le; 210.0<br/>gini = 0.615<br/>samples = 13<br/>value = [0, 2, 5, 6]>, fillcolor=\"#fae6fc\"] ;\n",
      "1 -> 5 ;\n",
      "6 [label=<gini = 0.595<br/>samples = 11<br/>value = [0, 2, 3, 6]>, fillcolor=\"#f0b5f5\"] ;\n",
      "5 -> 6 ;\n",
      "7 [label=<gini = 0.0<br/>samples = 2<br/>value = [0, 0, 2, 0]>, fillcolor=\"#399de5\"] ;\n",
      "5 -> 7 ;\n",
      "8 [label=<gini = 0.0<br/>samples = 2<br/>value = [0, 0, 2, 0]>, fillcolor=\"#399de5\"] ;\n",
      "0 -> 8 [labeldistance=2.5, labelangle=-45, headlabel=\"False\"] ;\n",
      "}\n",
      "\n"
     ]
    }
   ],
   "source": [
    "\n",
    "donnee = export_graphviz(arbre_décision, out_file=None, \n",
    "                           feature_names=X_train.columns, \n",
    "                           filled=True, rounded=True,\n",
    "                           special_characters=True)\n",
    "\n",
    "graph = graphviz.Source(donnee)\n",
    "print(graph)\n"
   ]
  },
  {
   "cell_type": "markdown",
   "metadata": {},
   "source": [
    "Question 24 : "
   ]
  },
  {
   "cell_type": "code",
   "execution_count": 62,
   "metadata": {},
   "outputs": [
    {
     "data": {
      "text/plain": [
       "['arbre_décision.txt']"
      ]
     },
     "execution_count": 62,
     "metadata": {},
     "output_type": "execute_result"
    }
   ],
   "source": [
    "from joblib import dump\n",
    "\n",
    "dump(svc_model2, 'svm_model.txt')\n",
    "dump(arbre_décision, 'arbre_décision.txt')"
   ]
  }
 ],
 "metadata": {
  "kernelspec": {
   "display_name": "base",
   "language": "python",
   "name": "python3"
  },
  "language_info": {
   "codemirror_mode": {
    "name": "ipython",
    "version": 3
   },
   "file_extension": ".py",
   "mimetype": "text/x-python",
   "name": "python",
   "nbconvert_exporter": "python",
   "pygments_lexer": "ipython3",
   "version": "3.11.5"
  }
 },
 "nbformat": 4,
 "nbformat_minor": 2
}
